{
 "cells": [
  {
   "cell_type": "code",
   "execution_count": 1,
   "id": "38b99e3b",
   "metadata": {},
   "outputs": [],
   "source": [
    "import torch\n",
    "from tqdm import tqdm, tqdm_notebook\n",
    "from torchvision.datasets import MNIST\n",
    "import torchvision.transforms as tt\n",
    "from torch import nn\n",
    "from torch.utils.data import DataLoader"
   ]
  },
  {
   "cell_type": "code",
   "execution_count": 2,
   "id": "831afe12",
   "metadata": {},
   "outputs": [],
   "source": [
    "transformation = tt.Compose([\n",
    "    tt.ToTensor(),])\n",
    "train_data = MNIST(root='F:/РАБОТА/diplom_reforked/',download=True,transform=transformation)\n",
    "test_data = MNIST(root='F:/РАБОТА/diplom_reforked/',download=True,train=False,transform=transformation)\n",
    "batch_size = 64"
   ]
  },
  {
   "cell_type": "code",
   "execution_count": 3,
   "id": "fef90487",
   "metadata": {},
   "outputs": [],
   "source": [
    "train_dataloader = DataLoader(train_data,batch_size = batch_size,shuffle=True)\n",
    "test_dataloader = DataLoader(test_data,batch_size = batch_size,shuffle=True)"
   ]
  },
  {
   "cell_type": "code",
   "execution_count": 4,
   "id": "e07ff490",
   "metadata": {},
   "outputs": [],
   "source": [
    "import torch\n",
    "\n",
    "class classic_lenet(nn.Module):\n",
    "    def __init__(self):\n",
    "        super(classic_lenet,self).__init__()\n",
    "        self.conv1 = nn.Sequential(*[nn.Conv2d(1,32,kernel_size=3),\n",
    "                                     nn.ReLU(),\n",
    "                                     nn.MaxPool2d(2)])\n",
    "        self.conv2 = nn.Sequential(*[nn.Conv2d(32,64,kernel_size=3),\n",
    "                                    nn.ReLU(),\n",
    "                                    nn.MaxPool2d(2)])\n",
    "        self.conv3 = nn.Sequential(*[nn.Conv2d(64,64,kernel_size=3),\n",
    "                                    nn.ReLU(),\n",
    "                                    nn.MaxPool2d(2)])\n",
    "        self.flatten = nn.Flatten()\n",
    "        self.fc1 = nn.Sequential(*[nn.Linear(1600,64),\n",
    "                                   nn.ReLU()])\n",
    "        self.fc2 = nn.Sequential(*[nn.Linear(64,10)])\n",
    "        \n",
    "        \n",
    "    def forward(self,x):\n",
    "        x = self.conv1(x)\n",
    "        x = self.conv2(x)\n",
    "        x = self.fc1(self.flatten(x))\n",
    "        x = self.fc2(x)\n",
    "        return x\n",
    "        \n",
    "        "
   ]
  },
  {
   "cell_type": "code",
   "execution_count": 5,
   "id": "aa57fb83",
   "metadata": {},
   "outputs": [],
   "source": [
    "DEVICE = torch.device(\"cuda\")\n",
    "\n",
    "\n",
    "def train(train_loader, val_loader, model, opt, criterion=nn.CrossEntropyLoss(), epochs=30,\n",
    "          path_to_save='best_classic_model.pth'):\n",
    "    history = []\n",
    "    log_template = \"\\nEpoch {ep:03d} train_loss: {t_loss:0.4f} \\\n",
    "    val_loss {v_loss:0.4f} train_acc {t_acc:0.4f} val_acc {v_acc:0.4f}\"\n",
    "\n",
    "    with tqdm(desc=\"epoch\", total=epochs) as pbar_outer:\n",
    "\n",
    "        val_max_loss = float('inf')\n",
    "        patience = 3\n",
    "        counter = 0\n",
    "        best_accuracy = 0\n",
    "        for epoch in range(epochs):\n",
    "            train_loss, train_acc = fit_epoch(model, train_loader, criterion, opt)\n",
    "            print(\"train_loss\", train_loss)\n",
    "            val_loss, val_acc = eval_epoch(model, val_loader, criterion)\n",
    "            print(\"val_loss\", val_loss)\n",
    "            history.append((train_loss, train_acc, val_loss, val_acc))\n",
    "#             if val_acc > best_accuracy:\n",
    "#                 torch.save(model, path_to_save)\n",
    "#                 best_accuracy = val_acc\n",
    "            if val_loss < val_max_loss:\n",
    "                counter = 0\n",
    "                val_max_loss = val_loss\n",
    "                torch.save(model, path_to_save)\n",
    "            else:\n",
    "                print(f'сработал счетчик на {epoch} эпохе')\n",
    "                counter += 1\n",
    "                if counter == patience:\n",
    "                    return model\n",
    "            pbar_outer.update(1)\n",
    "            tqdm.write(log_template.format(ep=epoch + 1, t_loss=train_loss, \\\n",
    "                                           v_loss=val_loss, t_acc=train_acc, v_acc=val_acc))\n",
    "    return history\n",
    "\n",
    "\n",
    "def fit_epoch(model, train_loader, criterion, optimizer):\n",
    "    running_loss = 0.0\n",
    "    running_corrects = 0\n",
    "    processed_data = 0\n",
    "\n",
    "    for inputs, labels in train_loader:\n",
    "        inputs = inputs.to(DEVICE)\n",
    "        labels = labels.to(DEVICE)\n",
    "        optimizer.zero_grad()\n",
    "\n",
    "        outputs = model(inputs)\n",
    "        loss = criterion(outputs, labels)\n",
    "        loss.backward()\n",
    "        optimizer.step()\n",
    "        preds = torch.argmax(outputs, 1)\n",
    "        running_loss += loss.item() * inputs.size(0)\n",
    "        running_corrects += torch.sum(preds == labels.data)\n",
    "        processed_data += inputs.size(0)\n",
    "        del loss\n",
    "        del preds\n",
    "        del outputs\n",
    "    train_loss = running_loss / processed_data\n",
    "    train_acc = running_corrects.cpu().numpy() / processed_data\n",
    "    return train_loss, train_acc\n",
    "\n",
    "\n",
    "def eval_epoch(model, val_loader, criterion):\n",
    "    model.eval()\n",
    "    running_loss = 0.0\n",
    "    running_corrects = 0\n",
    "    processed_size = 0\n",
    "\n",
    "    for inputs, labels in val_loader:\n",
    "        inputs = inputs.to(DEVICE)\n",
    "        labels = labels.to(DEVICE)\n",
    "\n",
    "        with torch.set_grad_enabled(False):\n",
    "            outputs = model(inputs)\n",
    "            loss = criterion(outputs, labels)\n",
    "            preds = torch.argmax(outputs, 1)\n",
    "\n",
    "        running_loss += loss.item() * inputs.size(0)\n",
    "        running_corrects += torch.sum(preds == labels.data)\n",
    "        processed_size += inputs.size(0)\n",
    "        del inputs\n",
    "        del labels\n",
    "        del outputs\n",
    "        del loss\n",
    "        del preds\n",
    "    val_loss = running_loss / processed_size\n",
    "    val_acc = running_corrects.double() / processed_size\n",
    "    return val_loss, val_acc"
   ]
  },
  {
   "cell_type": "markdown",
   "id": "024bbe54",
   "metadata": {},
   "source": [
    "### Build Model"
   ]
  },
  {
   "cell_type": "code",
   "execution_count": 6,
   "id": "f4d29ffb",
   "metadata": {},
   "outputs": [],
   "source": [
    "classic_model = classic_lenet()\n",
    "optimizer = torch.optim.Adam(params=classic_model.parameters())\n",
    "classic_model = classic_model.to(DEVICE)\n",
    "loss = torch.nn.CrossEntropyLoss()"
   ]
  },
  {
   "cell_type": "code",
   "execution_count": 7,
   "id": "7855cbbc",
   "metadata": {
    "scrolled": true
   },
   "outputs": [
    {
     "name": "stderr",
     "output_type": "stream",
     "text": [
      "\r",
      "epoch:   0%|                                                                                    | 0/10 [00:00<?, ?it/s]"
     ]
    },
    {
     "name": "stdout",
     "output_type": "stream",
     "text": [
      "train_loss 0.2163699336429437\n"
     ]
    },
    {
     "name": "stderr",
     "output_type": "stream",
     "text": [
      "epoch:  10%|███████▌                                                                    | 1/10 [00:13<02:00, 13.42s/it]"
     ]
    },
    {
     "name": "stdout",
     "output_type": "stream",
     "text": [
      "val_loss 0.06379021574854851\n",
      "\n",
      "Epoch 001 train_loss: 0.2164     val_loss 0.0638 train_acc 0.9355 val_acc 0.9800\n",
      "train_loss 0.06263534424975514\n"
     ]
    },
    {
     "name": "stderr",
     "output_type": "stream",
     "text": [
      "epoch:  20%|███████████████▏                                                            | 2/10 [00:22<01:25, 10.63s/it]"
     ]
    },
    {
     "name": "stdout",
     "output_type": "stream",
     "text": [
      "val_loss 0.04217771415859461\n",
      "\n",
      "Epoch 002 train_loss: 0.0626     val_loss 0.0422 train_acc 0.9810 val_acc 0.9870\n",
      "train_loss 0.045993159838517504\n"
     ]
    },
    {
     "name": "stderr",
     "output_type": "stream",
     "text": [
      "epoch:  30%|██████████████████████▊                                                     | 3/10 [00:32<01:13, 10.55s/it]"
     ]
    },
    {
     "name": "stdout",
     "output_type": "stream",
     "text": [
      "val_loss 0.037616944114863875\n",
      "\n",
      "Epoch 003 train_loss: 0.0460     val_loss 0.0376 train_acc 0.9856 val_acc 0.9880\n",
      "train_loss 0.03408993651258449\n"
     ]
    },
    {
     "name": "stderr",
     "output_type": "stream",
     "text": [
      "epoch:  40%|██████████████████████████████▍                                             | 4/10 [00:42<01:03, 10.51s/it]"
     ]
    },
    {
     "name": "stdout",
     "output_type": "stream",
     "text": [
      "val_loss 0.030966906449105592\n",
      "\n",
      "Epoch 004 train_loss: 0.0341     val_loss 0.0310 train_acc 0.9893 val_acc 0.9901\n",
      "train_loss 0.027083438932771483\n"
     ]
    },
    {
     "name": "stderr",
     "output_type": "stream",
     "text": [
      "epoch:  50%|██████████████████████████████████████                                      | 5/10 [00:53<00:52, 10.49s/it]"
     ]
    },
    {
     "name": "stdout",
     "output_type": "stream",
     "text": [
      "val_loss 0.03342091273944825\n",
      "сработал счетчик на 4 эпохе\n",
      "\n",
      "Epoch 005 train_loss: 0.0271     val_loss 0.0334 train_acc 0.9915 val_acc 0.9901\n",
      "train_loss 0.022398906607211878\n"
     ]
    },
    {
     "name": "stderr",
     "output_type": "stream",
     "text": [
      "epoch:  60%|█████████████████████████████████████████████▌                              | 6/10 [01:03<00:41, 10.50s/it]"
     ]
    },
    {
     "name": "stdout",
     "output_type": "stream",
     "text": [
      "val_loss 0.032386009434238076\n",
      "сработал счетчик на 5 эпохе\n",
      "\n",
      "Epoch 006 train_loss: 0.0224     val_loss 0.0324 train_acc 0.9930 val_acc 0.9897\n",
      "train_loss 0.018494523535544673\n"
     ]
    },
    {
     "name": "stderr",
     "output_type": "stream",
     "text": [
      "\r",
      "epoch:  60%|█████████████████████████████████████████████▌                              | 6/10 [01:14<00:49, 12.41s/it]"
     ]
    },
    {
     "name": "stdout",
     "output_type": "stream",
     "text": [
      "val_loss 0.03548372002393007\n",
      "сработал счетчик на 6 эпохе\n"
     ]
    },
    {
     "name": "stderr",
     "output_type": "stream",
     "text": [
      "\n"
     ]
    },
    {
     "data": {
      "text/plain": [
       "classic_lenet(\n",
       "  (conv1): Sequential(\n",
       "    (0): Conv2d(1, 32, kernel_size=(3, 3), stride=(1, 1))\n",
       "    (1): ReLU()\n",
       "    (2): MaxPool2d(kernel_size=2, stride=2, padding=0, dilation=1, ceil_mode=False)\n",
       "  )\n",
       "  (conv2): Sequential(\n",
       "    (0): Conv2d(32, 64, kernel_size=(3, 3), stride=(1, 1))\n",
       "    (1): ReLU()\n",
       "    (2): MaxPool2d(kernel_size=2, stride=2, padding=0, dilation=1, ceil_mode=False)\n",
       "  )\n",
       "  (conv3): Sequential(\n",
       "    (0): Conv2d(64, 64, kernel_size=(3, 3), stride=(1, 1))\n",
       "    (1): ReLU()\n",
       "    (2): MaxPool2d(kernel_size=2, stride=2, padding=0, dilation=1, ceil_mode=False)\n",
       "  )\n",
       "  (flatten): Flatten(start_dim=1, end_dim=-1)\n",
       "  (fc1): Sequential(\n",
       "    (0): Linear(in_features=1600, out_features=64, bias=True)\n",
       "    (1): ReLU()\n",
       "  )\n",
       "  (fc2): Sequential(\n",
       "    (0): Linear(in_features=64, out_features=10, bias=True)\n",
       "  )\n",
       ")"
      ]
     },
     "execution_count": 7,
     "metadata": {},
     "output_type": "execute_result"
    }
   ],
   "source": [
    "train(train_dataloader,test_dataloader,classic_model,optimizer,criterion=loss,epochs=10)"
   ]
  },
  {
   "cell_type": "code",
   "execution_count": null,
   "id": "d985b3cc",
   "metadata": {},
   "outputs": [],
   "source": []
  }
 ],
 "metadata": {
  "kernelspec": {
   "display_name": "Python 3 (ipykernel)",
   "language": "python",
   "name": "python3"
  },
  "language_info": {
   "codemirror_mode": {
    "name": "ipython",
    "version": 3
   },
   "file_extension": ".py",
   "mimetype": "text/x-python",
   "name": "python",
   "nbconvert_exporter": "python",
   "pygments_lexer": "ipython3",
   "version": "3.7.11"
  }
 },
 "nbformat": 4,
 "nbformat_minor": 5
}
