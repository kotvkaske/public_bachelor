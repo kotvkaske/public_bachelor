{
 "cells": [
  {
   "cell_type": "code",
   "execution_count": 1,
   "id": "38b99e3b",
   "metadata": {},
   "outputs": [],
   "source": [
    "import torch\n",
    "from tqdm import tqdm, tqdm_notebook\n",
    "from torchvision.datasets import MNIST\n",
    "import torchvision.transforms as tt\n",
    "from torch import nn\n",
    "from torch.utils.data import DataLoader"
   ]
  },
  {
   "cell_type": "code",
   "execution_count": 2,
   "id": "831afe12",
   "metadata": {},
   "outputs": [],
   "source": [
    "transformation = tt.Compose([\n",
    "    tt.ToTensor(),])\n",
    "train_data = MNIST(root='F:/РАБОТА/diplom_reforked/',download=True,transform=transformation)\n",
    "test_data = MNIST(root='F:/РАБОТА/diplom_reforked/',download=True,train=False,transform=transformation)\n",
    "batch_size = 64"
   ]
  },
  {
   "cell_type": "code",
   "execution_count": 3,
   "id": "fef90487",
   "metadata": {},
   "outputs": [],
   "source": [
    "train_dataloader = DataLoader(train_data,batch_size = batch_size,shuffle=True)\n",
    "test_dataloader = DataLoader(test_data,batch_size = batch_size,shuffle=True)"
   ]
  },
  {
   "cell_type": "code",
   "execution_count": 4,
   "id": "e07ff490",
   "metadata": {},
   "outputs": [],
   "source": [
    "import torch\n",
    "\n",
    "class classic_lenet(nn.Module):\n",
    "    def __init__(self):\n",
    "        super(classic_lenet,self).__init__()\n",
    "        self.conv1 = nn.Sequential(*[nn.Conv2d(1,32,kernel_size=3),\n",
    "                                     nn.ReLU(),\n",
    "                                     nn.MaxPool2d(2)])\n",
    "        self.conv2 = nn.Sequential(*[nn.Conv2d(32,64,kernel_size=3),\n",
    "                                    nn.ReLU(),\n",
    "                                    nn.MaxPool2d(2)])\n",
    "        self.conv3 = nn.Sequential(*[nn.Conv2d(64,64,kernel_size=3),\n",
    "                                    nn.ReLU(),\n",
    "                                    nn.MaxPool2d(2)])\n",
    "        self.flatten = nn.Flatten()\n",
    "        self.fc1 = nn.Sequential(*[nn.Linear(1600,64),\n",
    "                                   nn.ReLU()])\n",
    "        self.fc2 = nn.Sequential(*[nn.Linear(64,10)])\n",
    "        \n",
    "        \n",
    "    def forward(self,x):\n",
    "        x = self.conv1(x)\n",
    "        x = self.conv2(x)\n",
    "        x = self.fc1(self.flatten(x))\n",
    "        x = self.fc2(x)\n",
    "        return x\n",
    "        \n",
    "        "
   ]
  },
  {
   "cell_type": "code",
   "execution_count": 5,
   "id": "aa57fb83",
   "metadata": {},
   "outputs": [],
   "source": [
    "DEVICE = torch.device(\"cuda\")\n",
    "\n",
    "\n",
    "def train(train_loader, val_loader, model, opt, criterion=nn.CrossEntropyLoss(), epochs=30,\n",
    "          path_to_save='best_classic_model.pth'):\n",
    "    history = []\n",
    "    log_template = \"\\nEpoch {ep:03d} train_loss: {t_loss:0.4f} \\\n",
    "    val_loss {v_loss:0.4f} train_acc {t_acc:0.4f} val_acc {v_acc:0.4f}\"\n",
    "\n",
    "    with tqdm(desc=\"epoch\", total=epochs) as pbar_outer:\n",
    "\n",
    "        val_max_loss = float('inf')\n",
    "        patience = 3\n",
    "        counter = 0\n",
    "        best_accuracy = 0\n",
    "        for epoch in range(epochs):\n",
    "            train_loss, train_acc = fit_epoch(model, train_loader, criterion, opt)\n",
    "            print(\"train_loss\", train_loss)\n",
    "            val_loss, val_acc = eval_epoch(model, val_loader, criterion)\n",
    "            print(\"val_loss\", val_loss)\n",
    "            history.append((train_loss, train_acc, val_loss, val_acc))\n",
    "#             if val_acc > best_accuracy:\n",
    "#                 torch.save(model, path_to_save)\n",
    "#                 best_accuracy = val_acc\n",
    "            if val_loss < val_max_loss:\n",
    "                counter = 0\n",
    "                val_max_loss = val_loss\n",
    "                torch.save(model, path_to_save)\n",
    "            else:\n",
    "                print(f'сработал счетчик на {epoch} эпохе')\n",
    "                counter += 1\n",
    "                if counter == patience:\n",
    "                    return model\n",
    "            pbar_outer.update(1)\n",
    "            tqdm.write(log_template.format(ep=epoch + 1, t_loss=train_loss, \\\n",
    "                                           v_loss=val_loss, t_acc=train_acc, v_acc=val_acc))\n",
    "    return history\n",
    "\n",
    "\n",
    "def fit_epoch(model, train_loader, criterion, optimizer):\n",
    "    running_loss = 0.0\n",
    "    running_corrects = 0\n",
    "    processed_data = 0\n",
    "\n",
    "    for inputs, labels in train_loader:\n",
    "        inputs = inputs.to(DEVICE)\n",
    "        labels = labels.to(DEVICE)\n",
    "        optimizer.zero_grad()\n",
    "\n",
    "        outputs = model(inputs)\n",
    "        loss = criterion(outputs, labels)\n",
    "        loss.backward()\n",
    "        optimizer.step()\n",
    "        preds = torch.argmax(outputs, 1)\n",
    "        running_loss += loss.item() * inputs.size(0)\n",
    "        running_corrects += torch.sum(preds == labels.data)\n",
    "        processed_data += inputs.size(0)\n",
    "        del loss\n",
    "        del preds\n",
    "        del outputs\n",
    "    train_loss = running_loss / processed_data\n",
    "    train_acc = running_corrects.cpu().numpy() / processed_data\n",
    "    return train_loss, train_acc\n",
    "\n",
    "\n",
    "def eval_epoch(model, val_loader, criterion):\n",
    "    model.eval()\n",
    "    running_loss = 0.0\n",
    "    running_corrects = 0\n",
    "    processed_size = 0\n",
    "\n",
    "    for inputs, labels in val_loader:\n",
    "        inputs = inputs.to(DEVICE)\n",
    "        labels = labels.to(DEVICE)\n",
    "\n",
    "        with torch.set_grad_enabled(False):\n",
    "            outputs = model(inputs)\n",
    "            loss = criterion(outputs, labels)\n",
    "            preds = torch.argmax(outputs, 1)\n",
    "\n",
    "        running_loss += loss.item() * inputs.size(0)\n",
    "        running_corrects += torch.sum(preds == labels.data)\n",
    "        processed_size += inputs.size(0)\n",
    "        del inputs\n",
    "        del labels\n",
    "        del outputs\n",
    "        del loss\n",
    "        del preds\n",
    "    val_loss = running_loss / processed_size\n",
    "    val_acc = running_corrects.double() / processed_size\n",
    "    return val_loss, val_acc"
   ]
  },
  {
   "cell_type": "markdown",
   "id": "024bbe54",
   "metadata": {},
   "source": [
    "### Build Model"
   ]
  },
  {
   "cell_type": "code",
   "execution_count": 6,
   "id": "f4d29ffb",
   "metadata": {},
   "outputs": [],
   "source": [
    "classic_model = classic_lenet()\n",
    "optimizer = torch.optim.Adam(params=classic_model.parameters())\n",
    "classic_model = classic_model.to(DEVICE)\n",
    "loss = torch.nn.CrossEntropyLoss()"
   ]
  },
  {
   "cell_type": "code",
   "execution_count": 7,
   "id": "7855cbbc",
   "metadata": {
    "scrolled": true
   },
   "outputs": [],
   "source": [
    "#train(train_dataloader,test_dataloader,classic_model,optimizer,criterion=loss,epochs=10)\n",
    "classic_model = torch.load('best_classic_model.pth')"
   ]
  },
  {
   "cell_type": "code",
   "execution_count": null,
   "id": "58957b99",
   "metadata": {},
   "outputs": [],
   "source": []
  },
  {
   "cell_type": "code",
   "execution_count": 10,
   "id": "a0efa453",
   "metadata": {},
   "outputs": [],
   "source": [
    "def calculate_accuracy(model,val_loader):\n",
    "    model.eval()\n",
    "    running_corrects = 0\n",
    "    processed_size = 0\n",
    "    for inputs, labels in val_loader:\n",
    "        inputs = inputs.to(DEVICE)\n",
    "        labels = labels.to(DEVICE)\n",
    "\n",
    "        with torch.set_grad_enabled(False):\n",
    "            outputs = model(inputs)\n",
    "            preds = torch.argmax(outputs, 1)\n",
    "        running_corrects += torch.sum(preds == labels.data)\n",
    "        processed_size += inputs.size(0)\n",
    "        del inputs\n",
    "        del labels\n",
    "        del outputs\n",
    "        del preds\n",
    "    val_acc = running_corrects.double() / processed_size\n",
    "    return  val_acc\n",
    "    "
   ]
  },
  {
   "cell_type": "code",
   "execution_count": 11,
   "id": "d985b3cc",
   "metadata": {},
   "outputs": [
    {
     "data": {
      "text/plain": [
       "tensor(0.9901, device='cuda:0', dtype=torch.float64)"
      ]
     },
     "execution_count": 11,
     "metadata": {},
     "output_type": "execute_result"
    }
   ],
   "source": [
    "calculate_accuracy(classic_model,test_dataloader)"
   ]
  },
  {
   "cell_type": "code",
   "execution_count": null,
   "id": "1d33f92e",
   "metadata": {},
   "outputs": [],
   "source": []
  }
 ],
 "metadata": {
  "kernelspec": {
   "display_name": "Python 3 (ipykernel)",
   "language": "python",
   "name": "python3"
  },
  "language_info": {
   "codemirror_mode": {
    "name": "ipython",
    "version": 3
   },
   "file_extension": ".py",
   "mimetype": "text/x-python",
   "name": "python",
   "nbconvert_exporter": "python",
   "pygments_lexer": "ipython3",
   "version": "3.7.11"
  }
 },
 "nbformat": 4,
 "nbformat_minor": 5
}
